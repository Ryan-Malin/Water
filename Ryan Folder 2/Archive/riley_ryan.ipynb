{
 "cells": [
  {
   "cell_type": "code",
   "execution_count": 127,
   "metadata": {},
   "outputs": [],
   "source": [
    "import pandas as pd\n",
    "import numpy as np"
   ]
  },
  {
   "cell_type": "code",
   "execution_count": 128,
   "metadata": {},
   "outputs": [
    {
     "data": {
      "text/html": [
       "<div>\n",
       "<style scoped>\n",
       "    .dataframe tbody tr th:only-of-type {\n",
       "        vertical-align: middle;\n",
       "    }\n",
       "\n",
       "    .dataframe tbody tr th {\n",
       "        vertical-align: top;\n",
       "    }\n",
       "\n",
       "    .dataframe thead th {\n",
       "        text-align: right;\n",
       "    }\n",
       "</style>\n",
       "<table border=\"1\" class=\"dataframe\">\n",
       "  <thead>\n",
       "    <tr style=\"text-align: right;\">\n",
       "      <th></th>\n",
       "      <th>ph</th>\n",
       "      <th>Hardness</th>\n",
       "      <th>Solids</th>\n",
       "      <th>Chloramines</th>\n",
       "      <th>Sulfate</th>\n",
       "      <th>Conductivity</th>\n",
       "      <th>Organic_carbon</th>\n",
       "      <th>Trihalomethanes</th>\n",
       "      <th>Turbidity</th>\n",
       "      <th>Potability</th>\n",
       "    </tr>\n",
       "  </thead>\n",
       "  <tbody>\n",
       "    <tr>\n",
       "      <th>0</th>\n",
       "      <td>NaN</td>\n",
       "      <td>204.890455</td>\n",
       "      <td>20791.318981</td>\n",
       "      <td>7.300212</td>\n",
       "      <td>368.516441</td>\n",
       "      <td>564.308654</td>\n",
       "      <td>10.379783</td>\n",
       "      <td>86.990970</td>\n",
       "      <td>2.963135</td>\n",
       "      <td>0</td>\n",
       "    </tr>\n",
       "    <tr>\n",
       "      <th>1</th>\n",
       "      <td>3.716080</td>\n",
       "      <td>129.422921</td>\n",
       "      <td>18630.057858</td>\n",
       "      <td>6.635246</td>\n",
       "      <td>NaN</td>\n",
       "      <td>592.885359</td>\n",
       "      <td>15.180013</td>\n",
       "      <td>56.329076</td>\n",
       "      <td>4.500656</td>\n",
       "      <td>0</td>\n",
       "    </tr>\n",
       "    <tr>\n",
       "      <th>2</th>\n",
       "      <td>8.099124</td>\n",
       "      <td>224.236259</td>\n",
       "      <td>19909.541732</td>\n",
       "      <td>9.275884</td>\n",
       "      <td>NaN</td>\n",
       "      <td>418.606213</td>\n",
       "      <td>16.868637</td>\n",
       "      <td>66.420093</td>\n",
       "      <td>3.055934</td>\n",
       "      <td>0</td>\n",
       "    </tr>\n",
       "    <tr>\n",
       "      <th>3</th>\n",
       "      <td>8.316766</td>\n",
       "      <td>214.373394</td>\n",
       "      <td>22018.417441</td>\n",
       "      <td>8.059332</td>\n",
       "      <td>356.886136</td>\n",
       "      <td>363.266516</td>\n",
       "      <td>18.436524</td>\n",
       "      <td>100.341674</td>\n",
       "      <td>4.628771</td>\n",
       "      <td>0</td>\n",
       "    </tr>\n",
       "    <tr>\n",
       "      <th>4</th>\n",
       "      <td>9.092223</td>\n",
       "      <td>181.101509</td>\n",
       "      <td>17978.986339</td>\n",
       "      <td>6.546600</td>\n",
       "      <td>310.135738</td>\n",
       "      <td>398.410813</td>\n",
       "      <td>11.558279</td>\n",
       "      <td>31.997993</td>\n",
       "      <td>4.075075</td>\n",
       "      <td>0</td>\n",
       "    </tr>\n",
       "  </tbody>\n",
       "</table>\n",
       "</div>"
      ],
      "text/plain": [
       "         ph    Hardness        Solids  Chloramines     Sulfate  Conductivity  \\\n",
       "0       NaN  204.890455  20791.318981     7.300212  368.516441    564.308654   \n",
       "1  3.716080  129.422921  18630.057858     6.635246         NaN    592.885359   \n",
       "2  8.099124  224.236259  19909.541732     9.275884         NaN    418.606213   \n",
       "3  8.316766  214.373394  22018.417441     8.059332  356.886136    363.266516   \n",
       "4  9.092223  181.101509  17978.986339     6.546600  310.135738    398.410813   \n",
       "\n",
       "   Organic_carbon  Trihalomethanes  Turbidity  Potability  \n",
       "0       10.379783        86.990970   2.963135           0  \n",
       "1       15.180013        56.329076   4.500656           0  \n",
       "2       16.868637        66.420093   3.055934           0  \n",
       "3       18.436524       100.341674   4.628771           0  \n",
       "4       11.558279        31.997993   4.075075           0  "
      ]
     },
     "execution_count": 128,
     "metadata": {},
     "output_type": "execute_result"
    }
   ],
   "source": [
    "df = pd.read_csv('water_potability.csv')\n",
    "df.head()"
   ]
  },
  {
   "cell_type": "code",
   "execution_count": 129,
   "metadata": {},
   "outputs": [
    {
     "data": {
      "text/plain": [
       "ph                 491\n",
       "Hardness             0\n",
       "Solids               0\n",
       "Chloramines          0\n",
       "Sulfate            781\n",
       "Conductivity         0\n",
       "Organic_carbon       0\n",
       "Trihalomethanes    162\n",
       "Turbidity            0\n",
       "Potability           0\n",
       "dtype: int64"
      ]
     },
     "execution_count": 129,
     "metadata": {},
     "output_type": "execute_result"
    }
   ],
   "source": [
    "df.isna().sum()"
   ]
  },
  {
   "cell_type": "code",
   "execution_count": 130,
   "metadata": {},
   "outputs": [],
   "source": [
    "df = df.dropna(how='any')\n"
   ]
  },
  {
   "cell_type": "code",
   "execution_count": 131,
   "metadata": {},
   "outputs": [
    {
     "data": {
      "text/plain": [
       "(2011, 10)"
      ]
     },
     "execution_count": 131,
     "metadata": {},
     "output_type": "execute_result"
    }
   ],
   "source": [
    "df.shape"
   ]
  },
  {
   "cell_type": "code",
   "execution_count": 132,
   "metadata": {},
   "outputs": [
    {
     "data": {
      "text/plain": [
       "ph                 0\n",
       "Hardness           0\n",
       "Solids             0\n",
       "Chloramines        0\n",
       "Sulfate            0\n",
       "Conductivity       0\n",
       "Organic_carbon     0\n",
       "Trihalomethanes    0\n",
       "Turbidity          0\n",
       "Potability         0\n",
       "dtype: int64"
      ]
     },
     "execution_count": 132,
     "metadata": {},
     "output_type": "execute_result"
    }
   ],
   "source": [
    "df.isna().sum()"
   ]
  },
  {
   "cell_type": "code",
   "execution_count": 133,
   "metadata": {},
   "outputs": [],
   "source": [
    "from sklearn.model_selection import train_test_split\n",
    "from sklearn.preprocessing import StandardScaler, MinMaxScaler, LabelEncoder"
   ]
  },
  {
   "cell_type": "code",
   "execution_count": 134,
   "metadata": {},
   "outputs": [
    {
     "data": {
      "text/html": [
       "<div>\n",
       "<style scoped>\n",
       "    .dataframe tbody tr th:only-of-type {\n",
       "        vertical-align: middle;\n",
       "    }\n",
       "\n",
       "    .dataframe tbody tr th {\n",
       "        vertical-align: top;\n",
       "    }\n",
       "\n",
       "    .dataframe thead th {\n",
       "        text-align: right;\n",
       "    }\n",
       "</style>\n",
       "<table border=\"1\" class=\"dataframe\">\n",
       "  <thead>\n",
       "    <tr style=\"text-align: right;\">\n",
       "      <th></th>\n",
       "      <th>ph</th>\n",
       "      <th>Hardness</th>\n",
       "      <th>Solids</th>\n",
       "      <th>Chloramines</th>\n",
       "      <th>Sulfate</th>\n",
       "      <th>Conductivity</th>\n",
       "      <th>Organic_carbon</th>\n",
       "      <th>Trihalomethanes</th>\n",
       "      <th>Turbidity</th>\n",
       "      <th>Potability</th>\n",
       "    </tr>\n",
       "  </thead>\n",
       "  <tbody>\n",
       "    <tr>\n",
       "      <th>count</th>\n",
       "      <td>2011.000000</td>\n",
       "      <td>2011.000000</td>\n",
       "      <td>2011.000000</td>\n",
       "      <td>2011.000000</td>\n",
       "      <td>2011.000000</td>\n",
       "      <td>2011.000000</td>\n",
       "      <td>2011.000000</td>\n",
       "      <td>2011.000000</td>\n",
       "      <td>2011.000000</td>\n",
       "      <td>2011.000000</td>\n",
       "    </tr>\n",
       "    <tr>\n",
       "      <th>mean</th>\n",
       "      <td>0.497984</td>\n",
       "      <td>0.502267</td>\n",
       "      <td>0.384500</td>\n",
       "      <td>0.489383</td>\n",
       "      <td>0.580133</td>\n",
       "      <td>0.407644</td>\n",
       "      <td>0.490098</td>\n",
       "      <td>0.500973</td>\n",
       "      <td>0.499476</td>\n",
       "      <td>0.403282</td>\n",
       "    </tr>\n",
       "    <tr>\n",
       "      <th>std</th>\n",
       "      <td>0.114238</td>\n",
       "      <td>0.133835</td>\n",
       "      <td>0.153865</td>\n",
       "      <td>0.135038</td>\n",
       "      <td>0.117050</td>\n",
       "      <td>0.146292</td>\n",
       "      <td>0.134035</td>\n",
       "      <td>0.139289</td>\n",
       "      <td>0.154685</td>\n",
       "      <td>0.490678</td>\n",
       "    </tr>\n",
       "    <tr>\n",
       "      <th>min</th>\n",
       "      <td>0.000000</td>\n",
       "      <td>0.000000</td>\n",
       "      <td>0.000000</td>\n",
       "      <td>0.000000</td>\n",
       "      <td>0.000000</td>\n",
       "      <td>0.000000</td>\n",
       "      <td>0.000000</td>\n",
       "      <td>0.000000</td>\n",
       "      <td>0.000000</td>\n",
       "      <td>0.000000</td>\n",
       "    </tr>\n",
       "    <tr>\n",
       "      <th>25%</th>\n",
       "      <td>0.425647</td>\n",
       "      <td>0.423434</td>\n",
       "      <td>0.272304</td>\n",
       "      <td>0.404565</td>\n",
       "      <td>0.507435</td>\n",
       "      <td>0.299173</td>\n",
       "      <td>0.400057</td>\n",
       "      <td>0.410452</td>\n",
       "      <td>0.395048</td>\n",
       "      <td>0.000000</td>\n",
       "    </tr>\n",
       "    <tr>\n",
       "      <th>50%</th>\n",
       "      <td>0.493723</td>\n",
       "      <td>0.507286</td>\n",
       "      <td>0.366982</td>\n",
       "      <td>0.490199</td>\n",
       "      <td>0.577314</td>\n",
       "      <td>0.402079</td>\n",
       "      <td>0.488659</td>\n",
       "      <td>0.502198</td>\n",
       "      <td>0.499168</td>\n",
       "      <td>0.000000</td>\n",
       "    </tr>\n",
       "    <tr>\n",
       "      <th>75%</th>\n",
       "      <td>0.568195</td>\n",
       "      <td>0.586226</td>\n",
       "      <td>0.478240</td>\n",
       "      <td>0.572493</td>\n",
       "      <td>0.654291</td>\n",
       "      <td>0.508867</td>\n",
       "      <td>0.583836</td>\n",
       "      <td>0.595331</td>\n",
       "      <td>0.607399</td>\n",
       "      <td>1.000000</td>\n",
       "    </tr>\n",
       "    <tr>\n",
       "      <th>max</th>\n",
       "      <td>1.000000</td>\n",
       "      <td>1.000000</td>\n",
       "      <td>1.000000</td>\n",
       "      <td>1.000000</td>\n",
       "      <td>1.000000</td>\n",
       "      <td>1.000000</td>\n",
       "      <td>1.000000</td>\n",
       "      <td>1.000000</td>\n",
       "      <td>1.000000</td>\n",
       "      <td>1.000000</td>\n",
       "    </tr>\n",
       "  </tbody>\n",
       "</table>\n",
       "</div>"
      ],
      "text/plain": [
       "                ph     Hardness       Solids  Chloramines      Sulfate  \\\n",
       "count  2011.000000  2011.000000  2011.000000  2011.000000  2011.000000   \n",
       "mean      0.497984     0.502267     0.384500     0.489383     0.580133   \n",
       "std       0.114238     0.133835     0.153865     0.135038     0.117050   \n",
       "min       0.000000     0.000000     0.000000     0.000000     0.000000   \n",
       "25%       0.425647     0.423434     0.272304     0.404565     0.507435   \n",
       "50%       0.493723     0.507286     0.366982     0.490199     0.577314   \n",
       "75%       0.568195     0.586226     0.478240     0.572493     0.654291   \n",
       "max       1.000000     1.000000     1.000000     1.000000     1.000000   \n",
       "\n",
       "       Conductivity  Organic_carbon  Trihalomethanes    Turbidity   Potability  \n",
       "count   2011.000000     2011.000000      2011.000000  2011.000000  2011.000000  \n",
       "mean       0.407644        0.490098         0.500973     0.499476     0.403282  \n",
       "std        0.146292        0.134035         0.139289     0.154685     0.490678  \n",
       "min        0.000000        0.000000         0.000000     0.000000     0.000000  \n",
       "25%        0.299173        0.400057         0.410452     0.395048     0.000000  \n",
       "50%        0.402079        0.488659         0.502198     0.499168     0.000000  \n",
       "75%        0.508867        0.583836         0.595331     0.607399     1.000000  \n",
       "max        1.000000        1.000000         1.000000     1.000000     1.000000  "
      ]
     },
     "execution_count": 134,
     "metadata": {},
     "output_type": "execute_result"
    }
   ],
   "source": [
    "scaler = MinMaxScaler()\n",
    "array = scaler.fit_transform(df.to_numpy())\n",
    "df_scaled = pd.DataFrame(array, columns=['ph', 'Hardness', 'Solids', 'Chloramines', 'Sulfate', 'Conductivity',\n",
    "                                            'Organic_carbon', 'Trihalomethanes', 'Turbidity', 'Potability'])\n",
    "df_scaled.describe()"
   ]
  },
  {
   "cell_type": "code",
   "execution_count": 135,
   "metadata": {},
   "outputs": [],
   "source": [
    "# Preparing variables\n",
    "X = df_scaled.drop(['Potability'], axis = 1)\n",
    "y = df_scaled['Potability']"
   ]
  },
  {
   "cell_type": "code",
   "execution_count": 136,
   "metadata": {},
   "outputs": [],
   "source": [
    "from sklearn.decomposition import PCA\n",
    "from sklearn.cluster import KMeans"
   ]
  },
  {
   "cell_type": "code",
   "execution_count": 137,
   "metadata": {},
   "outputs": [],
   "source": [
    "pca = PCA(n_components=0.90)\n",
    "\n",
    "water_pca = pca.fit_transform(X)"
   ]
  },
  {
   "cell_type": "code",
   "execution_count": 138,
   "metadata": {},
   "outputs": [
    {
     "data": {
      "text/html": [
       "<div>\n",
       "<style scoped>\n",
       "    .dataframe tbody tr th:only-of-type {\n",
       "        vertical-align: middle;\n",
       "    }\n",
       "\n",
       "    .dataframe tbody tr th {\n",
       "        vertical-align: top;\n",
       "    }\n",
       "\n",
       "    .dataframe thead th {\n",
       "        text-align: right;\n",
       "    }\n",
       "</style>\n",
       "<table border=\"1\" class=\"dataframe\">\n",
       "  <thead>\n",
       "    <tr style=\"text-align: right;\">\n",
       "      <th></th>\n",
       "      <th>PC1</th>\n",
       "      <th>PC2</th>\n",
       "      <th>PC3</th>\n",
       "      <th>PC4</th>\n",
       "      <th>PC5</th>\n",
       "      <th>PC6</th>\n",
       "      <th>PC7</th>\n",
       "      <th>PC8</th>\n",
       "    </tr>\n",
       "  </thead>\n",
       "  <tbody>\n",
       "    <tr>\n",
       "      <th>0</th>\n",
       "      <td>-0.013254</td>\n",
       "      <td>-0.098917</td>\n",
       "      <td>-0.090778</td>\n",
       "      <td>-0.207686</td>\n",
       "      <td>-0.228338</td>\n",
       "      <td>-0.131890</td>\n",
       "      <td>0.155430</td>\n",
       "      <td>0.102146</td>\n",
       "    </tr>\n",
       "    <tr>\n",
       "      <th>1</th>\n",
       "      <td>-0.015909</td>\n",
       "      <td>-0.054235</td>\n",
       "      <td>-0.051433</td>\n",
       "      <td>0.257325</td>\n",
       "      <td>0.105491</td>\n",
       "      <td>0.090283</td>\n",
       "      <td>-0.108549</td>\n",
       "      <td>0.075273</td>\n",
       "    </tr>\n",
       "    <tr>\n",
       "      <th>2</th>\n",
       "      <td>0.004424</td>\n",
       "      <td>0.296703</td>\n",
       "      <td>-0.296077</td>\n",
       "      <td>0.042920</td>\n",
       "      <td>0.116331</td>\n",
       "      <td>0.183266</td>\n",
       "      <td>-0.125711</td>\n",
       "      <td>-0.054863</td>\n",
       "    </tr>\n",
       "    <tr>\n",
       "      <th>3</th>\n",
       "      <td>-0.139632</td>\n",
       "      <td>0.286179</td>\n",
       "      <td>-0.213236</td>\n",
       "      <td>-0.046343</td>\n",
       "      <td>-0.222730</td>\n",
       "      <td>0.040819</td>\n",
       "      <td>0.034899</td>\n",
       "      <td>0.291701</td>\n",
       "    </tr>\n",
       "    <tr>\n",
       "      <th>4</th>\n",
       "      <td>-0.056638</td>\n",
       "      <td>-0.110390</td>\n",
       "      <td>0.133617</td>\n",
       "      <td>0.087051</td>\n",
       "      <td>-0.105835</td>\n",
       "      <td>-0.007793</td>\n",
       "      <td>-0.208308</td>\n",
       "      <td>0.003920</td>\n",
       "    </tr>\n",
       "  </tbody>\n",
       "</table>\n",
       "</div>"
      ],
      "text/plain": [
       "        PC1       PC2       PC3       PC4       PC5       PC6       PC7  \\\n",
       "0 -0.013254 -0.098917 -0.090778 -0.207686 -0.228338 -0.131890  0.155430   \n",
       "1 -0.015909 -0.054235 -0.051433  0.257325  0.105491  0.090283 -0.108549   \n",
       "2  0.004424  0.296703 -0.296077  0.042920  0.116331  0.183266 -0.125711   \n",
       "3 -0.139632  0.286179 -0.213236 -0.046343 -0.222730  0.040819  0.034899   \n",
       "4 -0.056638 -0.110390  0.133617  0.087051 -0.105835 -0.007793 -0.208308   \n",
       "\n",
       "        PC8  \n",
       "0  0.102146  \n",
       "1  0.075273  \n",
       "2 -0.054863  \n",
       "3  0.291701  \n",
       "4  0.003920  "
      ]
     },
     "execution_count": 138,
     "metadata": {},
     "output_type": "execute_result"
    }
   ],
   "source": [
    "# df of reduced dataset\n",
    "pca_df = pd.DataFrame(\n",
    "        data=water_pca, columns=['PC1', 'PC2', 'PC3', 'PC4', 'PC5', 'PC6', 'PC7', 'PC8']\n",
    ")\n",
    "pca_df.head()"
   ]
  },
  {
   "cell_type": "code",
   "execution_count": 139,
   "metadata": {},
   "outputs": [
    {
     "data": {
      "text/html": [
       "<div>\n",
       "<style scoped>\n",
       "    .dataframe tbody tr th:only-of-type {\n",
       "        vertical-align: middle;\n",
       "    }\n",
       "\n",
       "    .dataframe tbody tr th {\n",
       "        vertical-align: top;\n",
       "    }\n",
       "\n",
       "    .dataframe thead th {\n",
       "        text-align: right;\n",
       "    }\n",
       "</style>\n",
       "<table border=\"1\" class=\"dataframe\">\n",
       "  <thead>\n",
       "    <tr style=\"text-align: right;\">\n",
       "      <th></th>\n",
       "      <th>PC1</th>\n",
       "      <th>PC2</th>\n",
       "      <th>PC3</th>\n",
       "      <th>PC4</th>\n",
       "      <th>PC5</th>\n",
       "      <th>PC6</th>\n",
       "      <th>PC7</th>\n",
       "      <th>PC8</th>\n",
       "      <th>Potability</th>\n",
       "    </tr>\n",
       "  </thead>\n",
       "  <tbody>\n",
       "    <tr>\n",
       "      <th>0</th>\n",
       "      <td>-0.013254</td>\n",
       "      <td>-0.098917</td>\n",
       "      <td>-0.090778</td>\n",
       "      <td>-0.207686</td>\n",
       "      <td>-0.228338</td>\n",
       "      <td>-0.131890</td>\n",
       "      <td>0.155430</td>\n",
       "      <td>0.102146</td>\n",
       "      <td>0.0</td>\n",
       "    </tr>\n",
       "    <tr>\n",
       "      <th>1</th>\n",
       "      <td>-0.015909</td>\n",
       "      <td>-0.054235</td>\n",
       "      <td>-0.051433</td>\n",
       "      <td>0.257325</td>\n",
       "      <td>0.105491</td>\n",
       "      <td>0.090283</td>\n",
       "      <td>-0.108549</td>\n",
       "      <td>0.075273</td>\n",
       "      <td>0.0</td>\n",
       "    </tr>\n",
       "    <tr>\n",
       "      <th>2</th>\n",
       "      <td>0.004424</td>\n",
       "      <td>0.296703</td>\n",
       "      <td>-0.296077</td>\n",
       "      <td>0.042920</td>\n",
       "      <td>0.116331</td>\n",
       "      <td>0.183266</td>\n",
       "      <td>-0.125711</td>\n",
       "      <td>-0.054863</td>\n",
       "      <td>0.0</td>\n",
       "    </tr>\n",
       "    <tr>\n",
       "      <th>3</th>\n",
       "      <td>-0.139632</td>\n",
       "      <td>0.286179</td>\n",
       "      <td>-0.213236</td>\n",
       "      <td>-0.046343</td>\n",
       "      <td>-0.222730</td>\n",
       "      <td>0.040819</td>\n",
       "      <td>0.034899</td>\n",
       "      <td>0.291701</td>\n",
       "      <td>0.0</td>\n",
       "    </tr>\n",
       "    <tr>\n",
       "      <th>4</th>\n",
       "      <td>-0.056638</td>\n",
       "      <td>-0.110390</td>\n",
       "      <td>0.133617</td>\n",
       "      <td>0.087051</td>\n",
       "      <td>-0.105835</td>\n",
       "      <td>-0.007793</td>\n",
       "      <td>-0.208308</td>\n",
       "      <td>0.003920</td>\n",
       "      <td>0.0</td>\n",
       "    </tr>\n",
       "  </tbody>\n",
       "</table>\n",
       "</div>"
      ],
      "text/plain": [
       "        PC1       PC2       PC3       PC4       PC5       PC6       PC7  \\\n",
       "0 -0.013254 -0.098917 -0.090778 -0.207686 -0.228338 -0.131890  0.155430   \n",
       "1 -0.015909 -0.054235 -0.051433  0.257325  0.105491  0.090283 -0.108549   \n",
       "2  0.004424  0.296703 -0.296077  0.042920  0.116331  0.183266 -0.125711   \n",
       "3 -0.139632  0.286179 -0.213236 -0.046343 -0.222730  0.040819  0.034899   \n",
       "4 -0.056638 -0.110390  0.133617  0.087051 -0.105835 -0.007793 -0.208308   \n",
       "\n",
       "        PC8  Potability  \n",
       "0  0.102146         0.0  \n",
       "1  0.075273         0.0  \n",
       "2 -0.054863         0.0  \n",
       "3  0.291701         0.0  \n",
       "4  0.003920         0.0  "
      ]
     },
     "execution_count": 139,
     "metadata": {},
     "output_type": "execute_result"
    }
   ],
   "source": [
    "pca_df = pd.concat([pca_df, pd.DataFrame(y)] , axis = 1)\n",
    "pca_df.head()"
   ]
  },
  {
   "cell_type": "code",
   "execution_count": 140,
   "metadata": {},
   "outputs": [],
   "source": [
    "import seaborn as sb\n",
    "import matplotlib.pyplot as plt"
   ]
  },
  {
   "cell_type": "code",
   "execution_count": 141,
   "metadata": {},
   "outputs": [
    {
     "data": {
      "text/plain": [
       "<AxesSubplot:xlabel='PC1', ylabel='PC5'>"
      ]
     },
     "execution_count": 141,
     "metadata": {},
     "output_type": "execute_result"
    },
    {
     "data": {
      "image/png": "[encoded data removed]",
      "text/plain": [
       "<Figure size 432x432 with 1 Axes>"
      ]
     },
     "metadata": {
      "needs_background": "light"
     },
     "output_type": "display_data"
    }
   ],
   "source": [
    "plt.figure(figsize = (6,6))\n",
    "sb.scatterplot(data = pca_df , x = 'PC1',y = 'PC5' , hue = 'Potability' , s = 60)"
   ]
  },
  {
   "cell_type": "code",
   "execution_count": 142,
   "metadata": {},
   "outputs": [],
   "source": [
    "X_train, X_test, y_train, y_test = train_test_split(X,y, test_size=0.3, random_state=1111, stratify=y) "
   ]
  },
  {
   "cell_type": "code",
   "execution_count": 143,
   "metadata": {},
   "outputs": [],
   "source": [
    "from sklearn.neighbors import KNeighborsClassifier\n",
    "from sklearn.metrics import confusion_matrix,roc_curve,accuracy_score, classification_report"
   ]
  },
  {
   "cell_type": "code",
   "execution_count": 144,
   "metadata": {},
   "outputs": [
    {
     "name": "stdout",
     "output_type": "stream",
     "text": [
      "Best Accuracy Score for PCA from KNN Model 0.6655629139072847 Best K-Score 17\n"
     ]
    }
   ],
   "source": [
    "k = range(1,20,1)\n",
    "testing_accuracy = []\n",
    "training_accuracy = []\n",
    "\n",
    "score = 0\n",
    "\n",
    "# knn\n",
    "for i in k:\n",
    "    knn= KNeighborsClassifier(n_neighbors=i, metric='minkowski', p=2 )  \n",
    "    knn.fit(X_train, y_train)  \n",
    "    y_pred_train = knn.predict(X_train)\n",
    "    training_accuracy.append(accuracy_score(y_train, y_pred_train))\n",
    "    \n",
    "    y_pred_test = knn.predict(X_test)\n",
    "    acc_score = accuracy_score(y_test,y_pred_test)\n",
    "    testing_accuracy.append(acc_score)\n",
    "    \n",
    "    if score < acc_score:\n",
    "        score = acc_score\n",
    "        best_k = i\n",
    "        \n",
    "print('Best Accuracy Score for PCA from KNN Model', score, 'Best K-Score', best_k)"
   ]
  },
  {
   "cell_type": "code",
   "execution_count": 145,
   "metadata": {},
   "outputs": [],
   "source": [
    "from sklearn.svm import SVC"
   ]
  },
  {
   "cell_type": "code",
   "execution_count": 146,
   "metadata": {},
   "outputs": [
    {
     "name": "stdout",
     "output_type": "stream",
     "text": [
      "Best Accuracy Score for SVM 0.6705298013245033 model is able to succesfully predict on waterpotability with a value of  0.6705298013245033\n"
     ]
    }
   ],
   "source": [
    "svm = SVC(kernel='rbf')\n",
    "\n",
    "svm = svm.fit(X_train, y_train)\n",
    "\n",
    "y_pred=svm.predict(X_test)\n",
    "acc = accuracy_score(y_test,y_pred)\n",
    "\n",
    "print('Best Accuracy Score for SVM', acc, 'model is able to succesfully predict on waterpotability with a value of ', acc)"
   ]
  },
  {
   "cell_type": "code",
   "execution_count": 147,
   "metadata": {},
   "outputs": [
    {
     "name": "stderr",
     "output_type": "stream",
     "text": [
      "<ipython-input-147-00dcd742cd67>:2: SettingWithCopyWarning: \n",
      "A value is trying to be set on a copy of a slice from a DataFrame.\n",
      "Try using .loc[row_indexer,col_indexer] = value instead\n",
      "\n",
      "See the caveats in the documentation: https://pandas.pydata.org/pandas-docs/stable/user_guide/indexing.html#returning-a-view-versus-a-copy\n",
      "  X_test['TestOrTrain'] = 'Test'\n",
      "<ipython-input-147-00dcd742cd67>:3: SettingWithCopyWarning: \n",
      "A value is trying to be set on a copy of a slice from a DataFrame.\n",
      "Try using .loc[row_indexer,col_indexer] = value instead\n",
      "\n",
      "See the caveats in the documentation: https://pandas.pydata.org/pandas-docs/stable/user_guide/indexing.html#returning-a-view-versus-a-copy\n",
      "  X_train['TestOrTrain'] = 'Train'\n"
     ]
    }
   ],
   "source": [
    "#This adds a column that states whether the sample was a train or test sample\n",
    "X_test['TestOrTrain'] = 'Test'\n",
    "X_train['TestOrTrain'] = 'Train'\n",
    "\n",
    "#This adds the test and train results column\n",
    "CombinedTest = pd.concat([X_test, y_test], axis=1, join=\"inner\")\n",
    "CombinedTrain = pd.concat([X_train, y_train], axis=1, join=\"inner\")\n",
    "dfs = [CombinedTest, CombinedTrain]\n",
    "\n",
    "\n",
    "\n",
    "\n",
    "#Combines all new columns into one df\n",
    "CombinedSVMResults = pd.concat(dfs)\n",
    "CombinedSVMResults['SVM Test Score'] = acc\n",
    "\n",
    "#Converts 0 & 1 to true/false\n",
    "def potable(y):\n",
    "    if y['Potability'] == 1:\n",
    "        return True\n",
    "    else:\n",
    "        return False\n",
    "CombinedSVMResults['Potability'] = CombinedSVMResults.apply(potable, axis=1)\n",
    "\n",
    "#Filters dataframe to just three relevant columns and the index\n",
    "CombinedSVMResults = CombinedSVMResults[['TestOrTrain', 'Potability','SVM Test Score']]\n",
    "CombinedSVMResults = CombinedSVMResults.sort_index()\n",
    "CombinedSVMResults.to_csv('SVM.csv')"
   ]
  },
  {
   "cell_type": "code",
   "execution_count": 118,
   "metadata": {},
   "outputs": [
    {
     "data": {
      "text/html": [
       "<div>\n",
       "<style scoped>\n",
       "    .dataframe tbody tr th:only-of-type {\n",
       "        vertical-align: middle;\n",
       "    }\n",
       "\n",
       "    .dataframe tbody tr th {\n",
       "        vertical-align: top;\n",
       "    }\n",
       "\n",
       "    .dataframe thead th {\n",
       "        text-align: right;\n",
       "    }\n",
       "</style>\n",
       "<table border=\"1\" class=\"dataframe\">\n",
       "  <thead>\n",
       "    <tr style=\"text-align: right;\">\n",
       "      <th></th>\n",
       "      <th>TestOrTrain</th>\n",
       "      <th>Potability</th>\n",
       "      <th>SVM Test Score</th>\n",
       "    </tr>\n",
       "  </thead>\n",
       "  <tbody>\n",
       "    <tr>\n",
       "      <th>0</th>\n",
       "      <td>Train</td>\n",
       "      <td>False</td>\n",
       "      <td>0.67053</td>\n",
       "    </tr>\n",
       "    <tr>\n",
       "      <th>1</th>\n",
       "      <td>Train</td>\n",
       "      <td>False</td>\n",
       "      <td>0.67053</td>\n",
       "    </tr>\n",
       "    <tr>\n",
       "      <th>2</th>\n",
       "      <td>Train</td>\n",
       "      <td>False</td>\n",
       "      <td>0.67053</td>\n",
       "    </tr>\n",
       "    <tr>\n",
       "      <th>3</th>\n",
       "      <td>Test</td>\n",
       "      <td>False</td>\n",
       "      <td>0.67053</td>\n",
       "    </tr>\n",
       "    <tr>\n",
       "      <th>4</th>\n",
       "      <td>Train</td>\n",
       "      <td>False</td>\n",
       "      <td>0.67053</td>\n",
       "    </tr>\n",
       "    <tr>\n",
       "      <th>...</th>\n",
       "      <td>...</td>\n",
       "      <td>...</td>\n",
       "      <td>...</td>\n",
       "    </tr>\n",
       "    <tr>\n",
       "      <th>2006</th>\n",
       "      <td>Test</td>\n",
       "      <td>True</td>\n",
       "      <td>0.67053</td>\n",
       "    </tr>\n",
       "    <tr>\n",
       "      <th>2007</th>\n",
       "      <td>Train</td>\n",
       "      <td>True</td>\n",
       "      <td>0.67053</td>\n",
       "    </tr>\n",
       "    <tr>\n",
       "      <th>2008</th>\n",
       "      <td>Test</td>\n",
       "      <td>True</td>\n",
       "      <td>0.67053</td>\n",
       "    </tr>\n",
       "    <tr>\n",
       "      <th>2009</th>\n",
       "      <td>Train</td>\n",
       "      <td>True</td>\n",
       "      <td>0.67053</td>\n",
       "    </tr>\n",
       "    <tr>\n",
       "      <th>2010</th>\n",
       "      <td>Train</td>\n",
       "      <td>True</td>\n",
       "      <td>0.67053</td>\n",
       "    </tr>\n",
       "  </tbody>\n",
       "</table>\n",
       "<p>2011 rows × 3 columns</p>\n",
       "</div>"
      ],
      "text/plain": [
       "     TestOrTrain  Potability  SVM Test Score\n",
       "0          Train       False         0.67053\n",
       "1          Train       False         0.67053\n",
       "2          Train       False         0.67053\n",
       "3           Test       False         0.67053\n",
       "4          Train       False         0.67053\n",
       "...          ...         ...             ...\n",
       "2006        Test        True         0.67053\n",
       "2007       Train        True         0.67053\n",
       "2008        Test        True         0.67053\n",
       "2009       Train        True         0.67053\n",
       "2010       Train        True         0.67053\n",
       "\n",
       "[2011 rows x 3 columns]"
      ]
     },
     "execution_count": 118,
     "metadata": {},
     "output_type": "execute_result"
    }
   ],
   "source": [
    "CombinedSVMResults"
   ]
  },
  {
   "cell_type": "code",
   "execution_count": 119,
   "metadata": {},
   "outputs": [],
   "source": [
    "from sklearn.ensemble import RandomForestClassifier"
   ]
  },
  {
   "cell_type": "code",
   "execution_count": 120,
   "metadata": {},
   "outputs": [
    {
     "name": "stderr",
     "output_type": "stream",
     "text": [
      "<ipython-input-120-649e9f53b6ad>:15: MatplotlibDeprecationWarning: normalize=None does not normalize if the sum is less than 1 but this behavior is deprecated since 3.3 until two minor releases later. After the deprecation period the default value will be normalize=True. To prevent normalization pass normalize=False \n",
      "  plt.pie(values, labels=labels)\n"
     ]
    },
    {
     "data": {
      "image/png": "[encoded data removed]",
      "text/plain": [
       "<Figure size 720x720 with 1 Axes>"
      ]
     },
     "metadata": {},
     "output_type": "display_data"
    }
   ],
   "source": [
    "clasification = RandomForestClassifier()\n",
    "clasification.fit(X,y)\n",
    "\n",
    "variables = X.columns\n",
    "importance = pd.DataFrame()\n",
    "\n",
    "importance['Features'] = variables\n",
    "importance['Importance'] = clasification.feature_importances_\n",
    "importance = importance.sort_values(by=['Importance'],ascending=True)\n",
    "\n",
    "labels = importance['Features']\n",
    "values = importance['Importance']\n",
    "\n",
    "plt.figure(figsize=(10,10))\n",
    "plt.pie(values, labels=labels)\n",
    "plt.show()"
   ]
  },
  {
   "cell_type": "code",
   "execution_count": 121,
   "metadata": {},
   "outputs": [
    {
     "name": "stdout",
     "output_type": "stream",
     "text": [
      "Training Score: 0.8948116560056859\n",
      "Testing Score: 0.6192052980132451\n"
     ]
    }
   ],
   "source": [
    "clf = RandomForestClassifier(random_state=1, n_estimators=6, bootstrap=True, max_samples=1000).fit(X_train, y_train)\n",
    "print(f'Training Score: {clf.score(X_train, y_train)}')\n",
    "print(f'Testing Score: {clf.score(X_test, y_test)}')"
   ]
  },
  {
   "cell_type": "code",
   "execution_count": 124,
   "metadata": {},
   "outputs": [
    {
     "data": {
      "text/html": [
       "<div>\n",
       "<style scoped>\n",
       "    .dataframe tbody tr th:only-of-type {\n",
       "        vertical-align: middle;\n",
       "    }\n",
       "\n",
       "    .dataframe tbody tr th {\n",
       "        vertical-align: top;\n",
       "    }\n",
       "\n",
       "    .dataframe thead th {\n",
       "        text-align: right;\n",
       "    }\n",
       "</style>\n",
       "<table border=\"1\" class=\"dataframe\">\n",
       "  <thead>\n",
       "    <tr style=\"text-align: right;\">\n",
       "      <th></th>\n",
       "      <th>ph</th>\n",
       "      <th>Hardness</th>\n",
       "      <th>Solids</th>\n",
       "      <th>Chloramines</th>\n",
       "      <th>Sulfate</th>\n",
       "      <th>Conductivity</th>\n",
       "      <th>Organic_carbon</th>\n",
       "      <th>Trihalomethanes</th>\n",
       "      <th>Turbidity</th>\n",
       "    </tr>\n",
       "  </thead>\n",
       "  <tbody>\n",
       "    <tr>\n",
       "      <th>941</th>\n",
       "      <td>0.443572</td>\n",
       "      <td>0.134872</td>\n",
       "      <td>0.271494</td>\n",
       "      <td>0.465276</td>\n",
       "      <td>0.887956</td>\n",
       "      <td>0.324100</td>\n",
       "      <td>0.121670</td>\n",
       "      <td>0.347925</td>\n",
       "      <td>0.576162</td>\n",
       "    </tr>\n",
       "    <tr>\n",
       "      <th>531</th>\n",
       "      <td>0.547070</td>\n",
       "      <td>0.410688</td>\n",
       "      <td>0.271107</td>\n",
       "      <td>0.309114</td>\n",
       "      <td>0.572084</td>\n",
       "      <td>0.578227</td>\n",
       "      <td>0.360697</td>\n",
       "      <td>0.683612</td>\n",
       "      <td>0.358056</td>\n",
       "    </tr>\n",
       "    <tr>\n",
       "      <th>704</th>\n",
       "      <td>0.556388</td>\n",
       "      <td>0.437431</td>\n",
       "      <td>0.566866</td>\n",
       "      <td>0.543843</td>\n",
       "      <td>0.657000</td>\n",
       "      <td>0.259063</td>\n",
       "      <td>0.364678</td>\n",
       "      <td>0.448049</td>\n",
       "      <td>0.348796</td>\n",
       "    </tr>\n",
       "    <tr>\n",
       "      <th>473</th>\n",
       "      <td>0.607130</td>\n",
       "      <td>0.657119</td>\n",
       "      <td>0.123596</td>\n",
       "      <td>0.473958</td>\n",
       "      <td>0.397611</td>\n",
       "      <td>0.103785</td>\n",
       "      <td>0.273570</td>\n",
       "      <td>0.288967</td>\n",
       "      <td>0.513692</td>\n",
       "    </tr>\n",
       "    <tr>\n",
       "      <th>576</th>\n",
       "      <td>0.400728</td>\n",
       "      <td>0.451021</td>\n",
       "      <td>0.628694</td>\n",
       "      <td>0.398387</td>\n",
       "      <td>0.564036</td>\n",
       "      <td>0.276506</td>\n",
       "      <td>0.417180</td>\n",
       "      <td>0.536712</td>\n",
       "      <td>0.467490</td>\n",
       "    </tr>\n",
       "    <tr>\n",
       "      <th>...</th>\n",
       "      <td>...</td>\n",
       "      <td>...</td>\n",
       "      <td>...</td>\n",
       "      <td>...</td>\n",
       "      <td>...</td>\n",
       "      <td>...</td>\n",
       "      <td>...</td>\n",
       "      <td>...</td>\n",
       "      <td>...</td>\n",
       "    </tr>\n",
       "    <tr>\n",
       "      <th>1028</th>\n",
       "      <td>0.413029</td>\n",
       "      <td>0.823354</td>\n",
       "      <td>0.118338</td>\n",
       "      <td>0.739474</td>\n",
       "      <td>0.337032</td>\n",
       "      <td>0.216806</td>\n",
       "      <td>0.398770</td>\n",
       "      <td>0.267465</td>\n",
       "      <td>0.225155</td>\n",
       "    </tr>\n",
       "    <tr>\n",
       "      <th>157</th>\n",
       "      <td>0.504385</td>\n",
       "      <td>0.532782</td>\n",
       "      <td>0.357503</td>\n",
       "      <td>0.536032</td>\n",
       "      <td>0.449068</td>\n",
       "      <td>0.206499</td>\n",
       "      <td>0.497185</td>\n",
       "      <td>0.570325</td>\n",
       "      <td>0.493562</td>\n",
       "    </tr>\n",
       "    <tr>\n",
       "      <th>830</th>\n",
       "      <td>0.569622</td>\n",
       "      <td>0.560918</td>\n",
       "      <td>0.294162</td>\n",
       "      <td>0.630752</td>\n",
       "      <td>0.654818</td>\n",
       "      <td>0.648057</td>\n",
       "      <td>0.607238</td>\n",
       "      <td>0.521230</td>\n",
       "      <td>0.719997</td>\n",
       "    </tr>\n",
       "    <tr>\n",
       "      <th>775</th>\n",
       "      <td>0.450373</td>\n",
       "      <td>0.549885</td>\n",
       "      <td>0.472409</td>\n",
       "      <td>0.485427</td>\n",
       "      <td>0.497608</td>\n",
       "      <td>0.392950</td>\n",
       "      <td>0.633746</td>\n",
       "      <td>0.227332</td>\n",
       "      <td>0.665205</td>\n",
       "    </tr>\n",
       "    <tr>\n",
       "      <th>1205</th>\n",
       "      <td>0.414810</td>\n",
       "      <td>0.418894</td>\n",
       "      <td>0.300103</td>\n",
       "      <td>0.768564</td>\n",
       "      <td>0.508472</td>\n",
       "      <td>0.364798</td>\n",
       "      <td>0.522117</td>\n",
       "      <td>0.569881</td>\n",
       "      <td>0.505074</td>\n",
       "    </tr>\n",
       "  </tbody>\n",
       "</table>\n",
       "<p>1407 rows × 9 columns</p>\n",
       "</div>"
      ],
      "text/plain": [
       "            ph  Hardness    Solids  Chloramines   Sulfate  Conductivity  \\\n",
       "941   0.443572  0.134872  0.271494     0.465276  0.887956      0.324100   \n",
       "531   0.547070  0.410688  0.271107     0.309114  0.572084      0.578227   \n",
       "704   0.556388  0.437431  0.566866     0.543843  0.657000      0.259063   \n",
       "473   0.607130  0.657119  0.123596     0.473958  0.397611      0.103785   \n",
       "576   0.400728  0.451021  0.628694     0.398387  0.564036      0.276506   \n",
       "...        ...       ...       ...          ...       ...           ...   \n",
       "1028  0.413029  0.823354  0.118338     0.739474  0.337032      0.216806   \n",
       "157   0.504385  0.532782  0.357503     0.536032  0.449068      0.206499   \n",
       "830   0.569622  0.560918  0.294162     0.630752  0.654818      0.648057   \n",
       "775   0.450373  0.549885  0.472409     0.485427  0.497608      0.392950   \n",
       "1205  0.414810  0.418894  0.300103     0.768564  0.508472      0.364798   \n",
       "\n",
       "      Organic_carbon  Trihalomethanes  Turbidity  \n",
       "941         0.121670         0.347925   0.576162  \n",
       "531         0.360697         0.683612   0.358056  \n",
       "704         0.364678         0.448049   0.348796  \n",
       "473         0.273570         0.288967   0.513692  \n",
       "576         0.417180         0.536712   0.467490  \n",
       "...              ...              ...        ...  \n",
       "1028        0.398770         0.267465   0.225155  \n",
       "157         0.497185         0.570325   0.493562  \n",
       "830         0.607238         0.521230   0.719997  \n",
       "775         0.633746         0.227332   0.665205  \n",
       "1205        0.522117         0.569881   0.505074  \n",
       "\n",
       "[1407 rows x 9 columns]"
      ]
     },
     "execution_count": 124,
     "metadata": {},
     "output_type": "execute_result"
    }
   ],
   "source": []
  },
  {
   "cell_type": "code",
   "execution_count": 126,
   "metadata": {},
   "outputs": [
    {
     "name": "stderr",
     "output_type": "stream",
     "text": [
      "<ipython-input-126-23a2a2a1578b>:2: SettingWithCopyWarning: \n",
      "A value is trying to be set on a copy of a slice from a DataFrame.\n",
      "Try using .loc[row_indexer,col_indexer] = value instead\n",
      "\n",
      "See the caveats in the documentation: https://pandas.pydata.org/pandas-docs/stable/user_guide/indexing.html#returning-a-view-versus-a-copy\n",
      "  X_test['TestOrTrain'] = 'Test'\n",
      "<ipython-input-126-23a2a2a1578b>:3: SettingWithCopyWarning: \n",
      "A value is trying to be set on a copy of a slice from a DataFrame.\n",
      "Try using .loc[row_indexer,col_indexer] = value instead\n",
      "\n",
      "See the caveats in the documentation: https://pandas.pydata.org/pandas-docs/stable/user_guide/indexing.html#returning-a-view-versus-a-copy\n",
      "  X_train['TestOrTrain'] = 'Train'\n"
     ]
    }
   ],
   "source": [
    "#This adds a column that states whether the sample was a train or test sample\n",
    "X_test['TestOrTrain'] = 'Test'\n",
    "X_train['TestOrTrain'] = 'Train'\n",
    "\n",
    "#This adds the test and train results column\n",
    "CombinedTest2 = pd.concat([X_test, y_test], axis=1, join=\"inner\")\n",
    "CombinedTrain2 = pd.concat([X_train, y_train], axis=1, join=\"inner\")\n",
    "dfs = [CombinedTest2, CombinedTrain2]\n",
    "\n",
    "\n",
    "\n",
    "\n",
    "#Combines all new columns into one df\n",
    "RandomForrestsResults = pd.concat(dfs)\n",
    "RandomForrestsResults['SVM Test Score'] = acc\n",
    "\n",
    "#Converts 0 & 1 to true/false\n",
    "def potable(y):\n",
    "    if y['Potability'] == 1:\n",
    "        return True\n",
    "    else:\n",
    "        return False\n",
    "RandomForrestsResults['Potability'] = RandomForrestsResults.apply(potable, axis=1)\n",
    "\n",
    "#Filters dataframe to just three relevant columns and the index\n",
    "RandomForrestsResults = RandomForrestsResults[['TestOrTrain', 'Potability','SVM Test Score']]\n",
    "RandomForrestsResults = RandomForrestsResults.sort_index()\n",
    "RandomForrestsResults.to_csv('RandomForrestsResults.csv')"
   ]
  },
  {
   "cell_type": "code",
   "execution_count": 32,
   "metadata": {},
   "outputs": [
    {
     "name": "stdout",
     "output_type": "stream",
     "text": [
      "[0.13864104 0.12209712 0.11532524 0.11969228 0.15745332 0.09679167\n",
      " 0.07729195 0.07518811 0.09751926]\n"
     ]
    },
    {
     "data": {
      "image/png": "[encoded data removed]",
      "text/plain": [
       "<Figure size 432x288 with 1 Axes>"
      ]
     },
     "metadata": {
      "needs_background": "light"
     },
     "output_type": "display_data"
    }
   ],
   "source": [
    "features = clf.feature_importances_\n",
    "print(features)\n",
    "plt.bar(x = range(len(features)), height=features)\n",
    "plt.show()"
   ]
  },
  {
   "cell_type": "code",
   "execution_count": 26,
   "metadata": {},
   "outputs": [],
   "source": [
    "# Linear Model\n",
    "from sklearn.linear_model import LinearRegression\n",
    "model = LinearRegression()"
   ]
  },
  {
   "cell_type": "code",
   "execution_count": 27,
   "metadata": {},
   "outputs": [
    {
     "name": "stdout",
     "output_type": "stream",
     "text": [
      "Training Score: 0.003307546214617152\n",
      "Testing Score: -0.00012429713451078683\n"
     ]
    }
   ],
   "source": [
    "model.fit(X_train, y_train)\n",
    "training_score = model.score(X_train, y_train)\n",
    "testing_score = model.score(X_test, y_test)\n",
    "\n",
    "### END SOLUTION \n",
    "\n",
    "print(f\"Training Score: {training_score}\")\n",
    "print(f\"Testing Score: {testing_score}\")"
   ]
  },
  {
   "cell_type": "code",
   "execution_count": 28,
   "metadata": {},
   "outputs": [
    {
     "data": {
      "text/plain": [
       "LogisticRegression()"
      ]
     },
     "execution_count": 28,
     "metadata": {},
     "output_type": "execute_result"
    }
   ],
   "source": [
    "from sklearn.linear_model import LogisticRegression\n",
    "classifier = LogisticRegression()\n",
    "classifier"
   ]
  },
  {
   "cell_type": "code",
   "execution_count": 29,
   "metadata": {},
   "outputs": [
    {
     "data": {
      "text/plain": [
       "LogisticRegression()"
      ]
     },
     "execution_count": 29,
     "metadata": {},
     "output_type": "execute_result"
    }
   ],
   "source": [
    "classifier.fit(X_train, y_train)"
   ]
  },
  {
   "cell_type": "code",
   "execution_count": 30,
   "metadata": {},
   "outputs": [
    {
     "name": "stdout",
     "output_type": "stream",
     "text": [
      "Training Data Score: 0.5970149253731343\n",
      "Testing Data Score: 0.5960264900662252\n"
     ]
    }
   ],
   "source": [
    "print(f\"Training Data Score: {classifier.score(X_train, y_train)}\")\n",
    "print(f\"Testing Data Score: {classifier.score(X_test, y_test)}\")"
   ]
  },
  {
   "cell_type": "code",
   "execution_count": 148,
   "metadata": {},
   "outputs": [
    {
     "name": "stderr",
     "output_type": "stream",
     "text": [
      "<ipython-input-148-5d43bb3f969f>:2: SettingWithCopyWarning: \n",
      "A value is trying to be set on a copy of a slice from a DataFrame.\n",
      "Try using .loc[row_indexer,col_indexer] = value instead\n",
      "\n",
      "See the caveats in the documentation: https://pandas.pydata.org/pandas-docs/stable/user_guide/indexing.html#returning-a-view-versus-a-copy\n",
      "  X_test['TestOrTrain'] = 'Test'\n",
      "<ipython-input-148-5d43bb3f969f>:3: SettingWithCopyWarning: \n",
      "A value is trying to be set on a copy of a slice from a DataFrame.\n",
      "Try using .loc[row_indexer,col_indexer] = value instead\n",
      "\n",
      "See the caveats in the documentation: https://pandas.pydata.org/pandas-docs/stable/user_guide/indexing.html#returning-a-view-versus-a-copy\n",
      "  X_train['TestOrTrain'] = 'Train'\n"
     ]
    }
   ],
   "source": [
    "#This adds a column that states whether the sample was a train or test sample\n",
    "X_test['TestOrTrain'] = 'Test'\n",
    "X_train['TestOrTrain'] = 'Train'\n",
    "\n",
    "#This adds the test and train results column\n",
    "CombinedTest3 = pd.concat([X_test, y_test], axis=1, join=\"inner\")\n",
    "CombinedTrain3 = pd.concat([X_train, y_train], axis=1, join=\"inner\")\n",
    "dfs = [CombinedTest3, CombinedTrain3]\n",
    "\n",
    "\n",
    "\n",
    "\n",
    "#Combines all new columns into one df\n",
    "LogisticRegression = pd.concat(dfs)\n",
    "LogisticRegression['SVM Test Score'] = acc\n",
    "\n",
    "#Converts 0 & 1 to true/false\n",
    "def potable(y):\n",
    "    if y['Potability'] == 1:\n",
    "        return True\n",
    "    else:\n",
    "        return False\n",
    "LogisticRegression['Potability'] = LogisticRegression.apply(potable, axis=1)\n",
    "\n",
    "#Filters dataframe to just three relevant columns and the index\n",
    "LogisticRegression = LogisticRegression[['TestOrTrain', 'Potability','SVM Test Score']]\n",
    "LogisticRegression = LogisticRegression.sort_index()\n",
    "LogisticRegression.to_csv('LogisticRegression.csv')"
   ]
  },
  {
   "cell_type": "code",
   "execution_count": null,
   "metadata": {},
   "outputs": [],
   "source": []
  }
 ],
 "metadata": {
  "interpreter": {
   "hash": "5b7cf6ab77895c68c7b4b58e65466a1c36a4b146a516d2a8b2ff29c4698a0c9c"
  },
  "kernelspec": {
   "display_name": "Python 3",
   "language": "python",
   "name": "python3"
  },
  "language_info": {
   "codemirror_mode": {
    "name": "ipython",
    "version": 3
   },
   "file_extension": ".py",
   "mimetype": "text/x-python",
   "name": "python",
   "nbconvert_exporter": "python",
   "pygments_lexer": "ipython3",
   "version": "3.8.5"
  }
 },
 "nbformat": 4,
 "nbformat_minor": 4
}
